{
 "cells": [
  {
   "cell_type": "markdown",
   "metadata": {},
   "source": [
    "## 第三届滴滴Di-Tech算法大赛-智慧信号灯\n",
    "城市的拥堵愈演愈烈，逐渐成为社会发展的顽疾。交通信号灯作为城市交通管控的重要环节，对路网通行效率有着至关重要的意义。然而今天的绝大部分信号灯仍未有足够的智慧，不能很好的调节时空资源与交通需求相匹配，甚至对道路交通状态一无所知。以滴滴车辆为代表提供的移动出行数据为城市交通管控提供了一个新思路，大范围、高质量的车辆轨迹为城市交通管控提供了大量低成本、覆盖广的移动检测数据，必将赋能信号灯变得更有效率。"
   ]
  },
  {
   "cell_type": "code",
   "execution_count": null,
   "metadata": {
    "collapsed": true
   },
   "outputs": [],
   "source": []
  }
 ],
 "metadata": {
  "kernelspec": {
   "display_name": "Python 3",
   "language": "python",
   "name": "python3"
  },
  "language_info": {
   "codemirror_mode": {
    "name": "ipython",
    "version": 3
   },
   "file_extension": ".py",
   "mimetype": "text/x-python",
   "name": "python",
   "nbconvert_exporter": "python",
   "pygments_lexer": "ipython3",
   "version": "3.6.3"
  }
 },
 "nbformat": 4,
 "nbformat_minor": 2
}
